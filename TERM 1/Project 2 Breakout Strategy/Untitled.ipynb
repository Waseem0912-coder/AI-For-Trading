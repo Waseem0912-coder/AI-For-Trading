{
 "cells": [
  {
   "cell_type": "code",
   "execution_count": 1,
   "id": "f2cd58ca",
   "metadata": {},
   "outputs": [
    {
     "name": "stdout",
     "output_type": "stream",
     "text": [
      "hello World\n"
     ]
    }
   ],
   "source": [
    "print(\"hello World\")"
   ]
  },
  {
   "cell_type": "code",
   "execution_count": 5,
   "id": "023ba052",
   "metadata": {},
   "outputs": [
    {
     "name": "stdout",
     "output_type": "stream",
     "text": [
      " Volume in drive S is STEAM\n",
      " Volume Serial Number is F647-3B38\n",
      "\n",
      " Directory of S:\\ML\\AI-For-Trading\\TERM 1\\Project 2 Breakout Strategy\n",
      "\n",
      "22/01/2022  06:17 PM    <DIR>          .\n",
      "22/01/2022  06:17 PM    <DIR>          ..\n",
      "22/01/2022  06:17 PM    <DIR>          .ipynb_checkpoints\n",
      "21/01/2022  01:16 PM               626 helper.py\n",
      "21/01/2022  01:16 PM    <DIR>          images\n",
      "21/01/2022  01:16 PM            31,404 project_2_starter-zh.ipynb\n",
      "22/01/2022  06:17 PM        13,783,680 project_2_starter.ipynb\n",
      "21/01/2022  01:16 PM            10,251 project_helper.py\n",
      "21/01/2022  01:16 PM            10,252 project_helper_zh.py\n",
      "21/01/2022  01:16 PM             8,902 project_tests.py\n",
      "21/01/2022  01:16 PM               244 requirements-zh.txt\n",
      "21/01/2022  01:16 PM               244 requirements.txt\n",
      "21/01/2022  01:16 PM             6,681 tests.py\n",
      "22/01/2022  06:17 PM                72 Untitled.ipynb\n",
      "22/01/2022  06:17 PM    <DIR>          __pycache__\n",
      "              10 File(s)     13,852,356 bytes\n",
      "               5 Dir(s)  72,442,875,904 bytes free\n"
     ]
    }
   ],
   "source": [
    "!dir"
   ]
  },
  {
   "cell_type": "markdown",
   "id": "a36115fa",
   "metadata": {},
   "source": [
    "## hello world"
   ]
  },
  {
   "cell_type": "code",
   "execution_count": null,
   "id": "f6b9ce51",
   "metadata": {},
   "outputs": [],
   "source": []
  }
 ],
 "metadata": {
  "kernelspec": {
   "display_name": "Python 3 (ipykernel)",
   "language": "python",
   "name": "python3"
  },
  "language_info": {
   "codemirror_mode": {
    "name": "ipython",
    "version": 3
   },
   "file_extension": ".py",
   "mimetype": "text/x-python",
   "name": "python",
   "nbconvert_exporter": "python",
   "pygments_lexer": "ipython3",
   "version": "3.9.7"
  }
 },
 "nbformat": 4,
 "nbformat_minor": 5
}
